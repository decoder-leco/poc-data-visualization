{
 "cells": [
  {
   "cell_type": "markdown",
   "id": "763c31c7-3a12-47d6-9728-f5f0e342ef79",
   "metadata": {},
   "source": [
    "# Let's play with Polars"
   ]
  },
  {
   "cell_type": "markdown",
   "id": "39d65f55-d296-4db2-b8ff-1ec0a22d8935",
   "metadata": {},
   "source": [
    "## 1. Resolve dependencies"
   ]
  },
  {
   "cell_type": "code",
   "execution_count": 1,
   "id": "5b272baa-fe40-42cf-b6fa-17731866f77f",
   "metadata": {},
   "outputs": [],
   "source": [
    "import pl from \"npm:nodejs-polars\";\n",
    "import { display } from \"https://deno.land/x/display@v0.1.1/mod.ts\";"
   ]
  },
  {
   "cell_type": "markdown",
   "id": "4d6c8662-ce87-4f1f-ae44-bdef61b45ba7",
   "metadata": {},
   "source": [
    "## 2. Fetch Data sources"
   ]
  },
  {
   "cell_type": "code",
   "execution_count": 2,
   "id": "171fd441-593f-4ed4-bce6-969632957b3c",
   "metadata": {},
   "outputs": [],
   "source": [
    "const response_atih = await fetch( \"https://raw.githubusercontent.com/decoderleco/deces_europe/main/data/csv/Atih.csv\", );\n",
    "let data_atih = await response_atih.text();\n",
    "\n",
    "const response_dept_regions =  await fetch( \"https://raw.githubusercontent.com/decoderleco/deces_europe/main/data/csv/departements-region.csv\", );\n",
    "let data_DR = await response_dept_regions.text();"
   ]
  },
  {
   "cell_type": "markdown",
   "id": "2b19cd29-aa43-4864-8b0e-f47bf4cc2a8e",
   "metadata": {},
   "source": [
    "## 2.bis Clean data\n",
    "\n",
    "_the data headers are quoted in the CSV Files: we remove any \" character from all frames data_"
   ]
  },
  {
   "cell_type": "code",
   "execution_count": 3,
   "id": "aaa938f9-a386-452b-a93c-c36538072994",
   "metadata": {},
   "outputs": [],
   "source": [
    "const data_atih_cleaned = data_atih.replace(/\"/g, \"\");\n",
    "const data_DR_cleaned = data_DR.replace(/\"/g, \"\");"
   ]
  },
  {
   "cell_type": "markdown",
   "id": "8c1cd778-7ade-4233-9b5b-d49afc890044",
   "metadata": {},
   "source": [
    "## 3. Load data as Data Frames"
   ]
  },
  {
   "cell_type": "code",
   "execution_count": 4,
   "id": "d3269b59-4ca0-41e2-a00e-e4a92e5d9b9a",
   "metadata": {},
   "outputs": [],
   "source": [
    "\n",
    "const df_atih = pl.readCSV(data_atih_cleaned, { sep: \",\" });\n",
    "const df_DR = pl.readCSV(data_DR_cleaned, { sep: \",\" });"
   ]
  },
  {
   "cell_type": "markdown",
   "id": "e6b982fa-7192-41fc-856c-047643eee7ab",
   "metadata": {},
   "source": [
    "## 4. Display first records of each dataset"
   ]
  },
  {
   "cell_type": "code",
   "execution_count": 5,
   "id": "1cae57b5-ce2f-4565-afe6-72a311e9dec3",
   "metadata": {},
   "outputs": [
    {
     "data": {
      "application/vnd.dataresource+json": {
       "data": [
        {
         "dep_name": "Ain",
         "num_dep": "01",
         "region_name": "Auvergne-Rhône-Alpes"
        },
        {
         "dep_name": "Aisne",
         "num_dep": "02",
         "region_name": "Hauts-de-France"
        },
        {
         "dep_name": "Allier",
         "num_dep": "03",
         "region_name": "Auvergne-Rhône-Alpes"
        },
        {
         "dep_name": "Alpes-de-Haute-Provence",
         "num_dep": "04",
         "region_name": "Provence-Alpes-Côte d'Azur"
        },
        {
         "dep_name": "Hautes-Alpes",
         "num_dep": "05",
         "region_name": "Provence-Alpes-Côte d'Azur"
        }
       ],
       "schema": {
        "fields": [
         {
          "name": "num_dep",
          "type": "string"
         },
         {
          "name": "dep_name",
          "type": "string"
         },
         {
          "name": "region_name",
          "type": "string"
         }
        ]
       }
      },
      "text/html": [
       "<table><thead><tr><th>num_dep</th><th>dep_name</th><th>region_name</th></tr></thead><tbody><tr><td>01</td><td>Ain</td><td>Auvergne-Rhône-Alpes</td></tr><tr><td>02</td><td>Aisne</td><td>Hauts-de-France</td></tr><tr><td>03</td><td>Allier</td><td>Auvergne-Rhône-Alpes</td></tr><tr><td>04</td><td>Alpes-de-Haute-Provence</td><td>Provence-Alpes-Côte d&#39;Azur</td></tr><tr><td>05</td><td>Hautes-Alpes</td><td>Provence-Alpes-Côte d&#39;Azur</td></tr></tbody></table>"
      ]
     },
     "execution_count": 5,
     "metadata": {},
     "output_type": "execute_result"
    }
   ],
   "source": [
    "df_DR.head(5)"
   ]
  },
  {
   "cell_type": "code",
   "execution_count": 6,
   "id": "55fb8678-e589-4459-8590-886640d8bbdb",
   "metadata": {},
   "outputs": [
    {
     "data": {
      "application/vnd.dataresource+json": {
       "data": [
        {
         "annee": 2017,
         "dep": "01",
         "nombre_patients": 114500,
         "tauxPatients": 185.73
        },
        {
         "annee": 2017,
         "dep": "02",
         "nombre_patients": 106386,
         "tauxPatients": 198.12
        },
        {
         "annee": 2017,
         "dep": "03",
         "nombre_patients": 70599,
         "tauxPatients": 193.71
        },
        {
         "annee": 2017,
         "dep": "04",
         "nombre_patients": 34032,
         "tauxPatients": 200.37
        },
        {
         "annee": 2017,
         "dep": "05",
         "nombre_patients": 29840,
         "tauxPatients": 201.41
        }
       ],
       "schema": {
        "fields": [
         {
          "name": "dep",
          "type": "string"
         },
         {
          "name": "annee",
          "type": "integer"
         },
         {
          "name": "tauxPatients",
          "type": "number"
         },
         {
          "name": "nombre_patients",
          "type": "integer"
         }
        ]
       }
      },
      "text/html": [
       "<table><thead><tr><th>dep</th><th>annee</th><th>tauxPatients</th><th>nombre_patients</th></tr></thead><tbody><tr><td>01</td><td>2017</td><td>185.73</td><td>114500</td></tr><tr><td>02</td><td>2017</td><td>198.12</td><td>106386</td></tr><tr><td>03</td><td>2017</td><td>193.71</td><td>70599</td></tr><tr><td>04</td><td>2017</td><td>200.37</td><td>34032</td></tr><tr><td>05</td><td>2017</td><td>201.41</td><td>29840</td></tr></tbody></table>"
      ]
     },
     "execution_count": 6,
     "metadata": {},
     "output_type": "execute_result"
    }
   ],
   "source": [
    "df_atih.head(5)"
   ]
  },
  {
   "cell_type": "markdown",
   "id": "cadd5455-bb73-420f-bc7c-270f1c41a265",
   "metadata": {},
   "source": [
    "## 5. Select where"
   ]
  },
  {
   "cell_type": "code",
   "execution_count": 7,
   "id": "80609f6f-ff7b-4772-beda-433dffe8c2b1",
   "metadata": {},
   "outputs": [
    {
     "data": {
      "application/vnd.dataresource+json": {
       "data": [
        {
         "annee": 2017,
         "dep": "976",
         "nombre_patients": 13846,
         "tauxPatients": 62.82
        },
        {
         "annee": 2018,
         "dep": "976",
         "nombre_patients": 13788,
         "tauxPatients": 65.47
        },
        {
         "annee": 2020,
         "dep": "976",
         "nombre_patients": 12959,
         "tauxPatients": 66.67
        },
        {
         "annee": 2019,
         "dep": "976",
         "nombre_patients": 14333,
         "tauxPatients": 67.76
        },
        {
         "annee": 2021,
         "dep": "976",
         "nombre_patients": 13714,
         "tauxPatients": 69.41
        },
        {
         "annee": 2017,
         "dep": "977",
         "nombre_patients": 1082,
         "tauxPatients": 132.05
        },
        {
         "annee": 2020,
         "dep": "978",
         "nombre_patients": 4048,
         "tauxPatients": 136.44
        }
       ],
       "schema": {
        "fields": [
         {
          "name": "dep",
          "type": "string"
         },
         {
          "name": "annee",
          "type": "integer"
         },
         {
          "name": "tauxPatients",
          "type": "number"
         },
         {
          "name": "nombre_patients",
          "type": "integer"
         }
        ]
       }
      },
      "text/html": [
       "<table><thead><tr><th>dep</th><th>annee</th><th>tauxPatients</th><th>nombre_patients</th></tr></thead><tbody><tr><td>976</td><td>2017</td><td>62.82</td><td>13846</td></tr><tr><td>976</td><td>2018</td><td>65.47</td><td>13788</td></tr><tr><td>976</td><td>2020</td><td>66.67</td><td>12959</td></tr><tr><td>976</td><td>2019</td><td>67.76</td><td>14333</td></tr><tr><td>976</td><td>2021</td><td>69.41</td><td>13714</td></tr><tr><td>977</td><td>2017</td><td>132.05</td><td>1082</td></tr><tr><td>978</td><td>2020</td><td>136.44</td><td>4048</td></tr></tbody></table>"
      ]
     },
     "execution_count": 7,
     "metadata": {},
     "output_type": "execute_result"
    }
   ],
   "source": [
    "// df_DR.filter(pl.col(\"foo\").lt(3).and(pl.col(\"ham\").eq(pl.lit(\"a\"))))\n",
    "// df_atih.filter(pl.col(\"tauxPatients\").lt(200).and(pl.col(\"annee\").eq(\"2017\")))\n",
    "df_atih.filter(pl.col(\"tauxPatients\").lt(200)).sort({by: \"tauxPatients\"}).head(7)\n",
    "// df_atih.select(pl.col('dep'))"
   ]
  },
  {
   "cell_type": "code",
   "execution_count": 8,
   "id": "a938c4c2-c7f6-420b-abc1-e5135829b4f1",
   "metadata": {},
   "outputs": [
    {
     "data": {
      "application/vnd.dataresource+json": {
       "data": [
        {
         "annee": 2017,
         "dep": "01",
         "nombre_patients": 114500,
         "tauxPatients": 185.73
        },
        {
         "annee": 2017,
         "dep": "02",
         "nombre_patients": 106386,
         "tauxPatients": 198.12
        },
        {
         "annee": 2017,
         "dep": "03",
         "nombre_patients": 70599,
         "tauxPatients": 193.71
        },
        {
         "annee": 2017,
         "dep": "07",
         "nombre_patients": 63466,
         "tauxPatients": 187.79
        },
        {
         "annee": 2017,
         "dep": "08",
         "nombre_patients": 55796,
         "tauxPatients": 199.64
        },
        {
         "annee": 2017,
         "dep": "09",
         "nombre_patients": 30002,
         "tauxPatients": 185.57
        },
        {
         "annee": 2017,
         "dep": "10",
         "nombre_patients": 56962,
         "tauxPatients": 181.56
        }
       ],
       "schema": {
        "fields": [
         {
          "name": "dep",
          "type": "string"
         },
         {
          "name": "annee",
          "type": "integer"
         },
         {
          "name": "tauxPatients",
          "type": "number"
         },
         {
          "name": "nombre_patients",
          "type": "integer"
         }
        ]
       }
      },
      "text/html": [
       "<table><thead><tr><th>dep</th><th>annee</th><th>tauxPatients</th><th>nombre_patients</th></tr></thead><tbody><tr><td>01</td><td>2017</td><td>185.73</td><td>114500</td></tr><tr><td>02</td><td>2017</td><td>198.12</td><td>106386</td></tr><tr><td>03</td><td>2017</td><td>193.71</td><td>70599</td></tr><tr><td>07</td><td>2017</td><td>187.79</td><td>63466</td></tr><tr><td>08</td><td>2017</td><td>199.64</td><td>55796</td></tr><tr><td>09</td><td>2017</td><td>185.57</td><td>30002</td></tr><tr><td>10</td><td>2017</td><td>181.56</td><td>56962</td></tr></tbody></table>"
      ]
     },
     "execution_count": 8,
     "metadata": {},
     "output_type": "execute_result"
    }
   ],
   "source": [
    "df_atih.filter(pl.col(\"tauxPatients\").lt(200)).sort({by: \"annee\"}).head(7)"
   ]
  },
  {
   "cell_type": "code",
   "execution_count": 9,
   "id": "c8b49fe9-b11b-4b00-850f-bcc11a8430d2",
   "metadata": {},
   "outputs": [
    {
     "data": {
      "application/vnd.dataresource+json": {
       "data": [
        {
         "annee": 2020,
         "dep": "976",
         "nombre_patients": 12959,
         "tauxPatients": 66.67
        },
        {
         "annee": 2020,
         "dep": "978",
         "nombre_patients": 4048,
         "tauxPatients": 136.44
        },
        {
         "annee": 2021,
         "dep": "976",
         "nombre_patients": 13714,
         "tauxPatients": 69.41
        }
       ],
       "schema": {
        "fields": [
         {
          "name": "dep",
          "type": "string"
         },
         {
          "name": "annee",
          "type": "integer"
         },
         {
          "name": "tauxPatients",
          "type": "number"
         },
         {
          "name": "nombre_patients",
          "type": "integer"
         }
        ]
       }
      },
      "text/html": [
       "<table><thead><tr><th>dep</th><th>annee</th><th>tauxPatients</th><th>nombre_patients</th></tr></thead><tbody><tr><td>976</td><td>2020</td><td>66.67</td><td>12959</td></tr><tr><td>978</td><td>2020</td><td>136.44</td><td>4048</td></tr><tr><td>976</td><td>2021</td><td>69.41</td><td>13714</td></tr></tbody></table>"
      ]
     },
     "execution_count": 9,
     "metadata": {},
     "output_type": "execute_result"
    }
   ],
   "source": [
    "df_atih.filter(pl.col(\"tauxPatients\").lt(140)).filter(pl.col(\"annee\").gt(2019))"
   ]
  },
  {
   "cell_type": "code",
   "execution_count": 10,
   "id": "f8c81652-2ae8-4e32-b3aa-fc763dc3c38f",
   "metadata": {},
   "outputs": [
    {
     "data": {
      "application/vnd.dataresource+json": {
       "data": [
        {
         "annee": 2017,
         "dep": "04",
         "nombre_patients": 34032,
         "tauxPatients": 200.37
        },
        {
         "annee": 2017,
         "dep": "05",
         "nombre_patients": 29840,
         "tauxPatients": 201.41
        },
        {
         "annee": 2017,
         "dep": "55",
         "nombre_patients": 40105,
         "tauxPatients": 205.79
        }
       ],
       "schema": {
        "fields": [
         {
          "name": "dep",
          "type": "string"
         },
         {
          "name": "annee",
          "type": "integer"
         },
         {
          "name": "tauxPatients",
          "type": "number"
         },
         {
          "name": "nombre_patients",
          "type": "integer"
         }
        ]
       }
      },
      "text/html": [
       "<table><thead><tr><th>dep</th><th>annee</th><th>tauxPatients</th><th>nombre_patients</th></tr></thead><tbody><tr><td>04</td><td>2017</td><td>200.37</td><td>34032</td></tr><tr><td>05</td><td>2017</td><td>201.41</td><td>29840</td></tr><tr><td>55</td><td>2017</td><td>205.79</td><td>40105</td></tr></tbody></table>"
      ]
     },
     "execution_count": 10,
     "metadata": {},
     "output_type": "execute_result"
    }
   ],
   "source": [
    "df_atih.filter(\n",
    "    pl.col(\"tauxPatients\").gt(200)\n",
    "    .and(pl.col(\"annee\").eq(2017))\n",
    "    .and(pl.col(\"nombre_patients\").lt(50000))\n",
    "              )"
   ]
  },
  {
   "cell_type": "markdown",
   "id": "2ccafdba-b3c3-423b-8607-644e4296d6fa",
   "metadata": {},
   "source": [
    "## 6. GroupBy"
   ]
  },
  {
   "cell_type": "code",
   "execution_count": 11,
   "id": "7ed73f67-9001-4234-ac0d-a94ec449154e",
   "metadata": {},
   "outputs": [
    {
     "data": {
      "application/vnd.dataresource+json": {
       "data": [
        {
         "annee": 2020,
         "dep_count": 104,
         "nombre_patients_count": 104,
         "tauxPatients_count": 104
        },
        {
         "annee": 2019,
         "dep_count": 104,
         "nombre_patients_count": 104,
         "tauxPatients_count": 104
        },
        {
         "annee": 2018,
         "dep_count": 104,
         "nombre_patients_count": 104,
         "tauxPatients_count": 104
        },
        {
         "annee": 2021,
         "dep_count": 104,
         "nombre_patients_count": 104,
         "tauxPatients_count": 104
        },
        {
         "annee": 2017,
         "dep_count": 104,
         "nombre_patients_count": 104,
         "tauxPatients_count": 104
        }
       ],
       "schema": {
        "fields": [
         {
          "name": "annee",
          "type": "integer"
         },
         {
          "name": "dep_count",
          "type": "integer"
         },
         {
          "name": "tauxPatients_count",
          "type": "integer"
         },
         {
          "name": "nombre_patients_count",
          "type": "integer"
         }
        ]
       }
      },
      "text/html": [
       "<table><thead><tr><th>annee</th><th>dep_count</th><th>tauxPatients_count</th><th>nombre_patients_count</th></tr></thead><tbody><tr><td>2020</td><td>104</td><td>104</td><td>104</td></tr><tr><td>2019</td><td>104</td><td>104</td><td>104</td></tr><tr><td>2018</td><td>104</td><td>104</td><td>104</td></tr><tr><td>2021</td><td>104</td><td>104</td><td>104</td></tr><tr><td>2017</td><td>104</td><td>104</td><td>104</td></tr></tbody></table>"
      ]
     },
     "execution_count": 11,
     "metadata": {},
     "output_type": "execute_result"
    }
   ],
   "source": [
    "df_atih.groupBy(\"annee\").count()"
   ]
  },
  {
   "cell_type": "markdown",
   "id": "d60493ba-8d76-4c5c-a274-50ebf6673027",
   "metadata": {},
   "source": [
    "## 7. Aggregation functions"
   ]
  },
  {
   "cell_type": "code",
   "execution_count": 24,
   "id": "2bc497c4-87b5-45c8-a442-1ecc55e19280",
   "metadata": {},
   "outputs": [
    {
     "data": {
      "application/vnd.dataresource+json": {
       "data": [
        {
         "Nombre annuel de patients": 25308661,
         "annee": 2017
        },
        {
         "Nombre annuel de patients": 25698108,
         "annee": 2019
        },
        {
         "Nombre annuel de patients": 23162660,
         "annee": 2020
        },
        {
         "Nombre annuel de patients": 25267786,
         "annee": 2021
        },
        {
         "Nombre annuel de patients": 25512826,
         "annee": 2018
        }
       ],
       "schema": {
        "fields": [
         {
          "name": "annee",
          "type": "integer"
         },
         {
          "name": "Nombre annuel de patients",
          "type": "integer"
         }
        ]
       }
      },
      "text/html": [
       "<table><thead><tr><th>annee</th><th>Nombre annuel de patients</th></tr></thead><tbody><tr><td>2017</td><td>25308661</td></tr><tr><td>2019</td><td>25698108</td></tr><tr><td>2020</td><td>23162660</td></tr><tr><td>2021</td><td>25267786</td></tr><tr><td>2018</td><td>25512826</td></tr></tbody></table>"
      ]
     },
     "execution_count": 24,
     "metadata": {},
     "output_type": "execute_result"
    }
   ],
   "source": [
    "df_atih.groupBy(\"annee\").agg(pl.col(\"nombre_patients\").sum().alias(\"Nombre annuel de patients\"))"
   ]
  },
  {
   "cell_type": "code",
   "execution_count": 32,
   "id": "062ee0e6-d524-40d8-ab76-379668c02bab",
   "metadata": {},
   "outputs": [
    {
     "data": {
      "application/vnd.dataresource+json": {
       "data": [
        {
         "Nombre annuel de patients": 220.01,
         "annee": 2021
        },
        {
         "Nombre annuel de patients": 215.92,
         "annee": 2017
        },
        {
         "Nombre annuel de patients": 199.41,
         "annee": 2020
        },
        {
         "Nombre annuel de patients": 219.93,
         "annee": 2019
        },
        {
         "Nombre annuel de patients": 217.3,
         "annee": 2018
        }
       ],
       "schema": {
        "fields": [
         {
          "name": "annee",
          "type": "integer"
         },
         {
          "name": "Nombre annuel de patients",
          "type": "number"
         }
        ]
       }
      },
      "text/html": [
       "<table><thead><tr><th>annee</th><th>Nombre annuel de patients</th></tr></thead><tbody><tr><td>2021</td><td>220.01</td></tr><tr><td>2017</td><td>215.92</td></tr><tr><td>2020</td><td>199.41</td></tr><tr><td>2019</td><td>219.93</td></tr><tr><td>2018</td><td>217.3</td></tr></tbody></table>"
      ]
     },
     "execution_count": 32,
     "metadata": {},
     "output_type": "execute_result"
    }
   ],
   "source": [
    "df_atih.groupBy(\"annee\").agg(pl.col(\"tauxPatients\").max().alias(\"Nombre annuel de patients\"))"
   ]
  },
  {
   "cell_type": "code",
   "execution_count": 33,
   "id": "b99beacf-d404-47df-8135-5a19af863dfd",
   "metadata": {},
   "outputs": [
    {
     "data": {
      "application/vnd.dataresource+json": {
       "data": [
        {
         "Nombre annuel de patients": 65.47,
         "annee": 2018
        },
        {
         "Nombre annuel de patients": 69.41,
         "annee": 2021
        },
        {
         "Nombre annuel de patients": 67.76,
         "annee": 2019
        },
        {
         "Nombre annuel de patients": 66.67,
         "annee": 2020
        },
        {
         "Nombre annuel de patients": 62.82,
         "annee": 2017
        }
       ],
       "schema": {
        "fields": [
         {
          "name": "annee",
          "type": "integer"
         },
         {
          "name": "Nombre annuel de patients",
          "type": "number"
         }
        ]
       }
      },
      "text/html": [
       "<table><thead><tr><th>annee</th><th>Nombre annuel de patients</th></tr></thead><tbody><tr><td>2018</td><td>65.47</td></tr><tr><td>2021</td><td>69.41</td></tr><tr><td>2019</td><td>67.76</td></tr><tr><td>2020</td><td>66.67</td></tr><tr><td>2017</td><td>62.82</td></tr></tbody></table>"
      ]
     },
     "execution_count": 33,
     "metadata": {},
     "output_type": "execute_result"
    }
   ],
   "source": [
    "df_atih.groupBy(\"annee\").agg(pl.col(\"tauxPatients\").min().alias(\"Nombre annuel de patients\"))"
   ]
  },
  {
   "cell_type": "code",
   "execution_count": 50,
   "id": "43e6650a-5a6e-4e80-bf59-4b23adb2bb40",
   "metadata": {},
   "outputs": [
    {
     "data": {
      "application/vnd.dataresource+json": {
       "data": [
        {
         "Année": 2021,
         "Nombre total annuel de patients": 25267786,
         "Taux de Patients Max": 220.01,
         "Taux de Patients Min": 69.41,
         "Taux de Patients moyen": 185.6853846153846,
         "Taux de Patients médian": 187
        },
        {
         "Année": 2020,
         "Nombre total annuel de patients": 23162660,
         "Taux de Patients Max": 199.41,
         "Taux de Patients Min": 66.67,
         "Taux de Patients moyen": 170.46192307692297,
         "Taux de Patients médian": 171.97
        },
        {
         "Année": 2019,
         "Nombre total annuel de patients": 25698108,
         "Taux de Patients Max": 219.93,
         "Taux de Patients Min": 67.76,
         "Taux de Patients moyen": 189.91528846153844,
         "Taux de Patients médian": 191.72
        },
        {
         "Année": 2018,
         "Nombre total annuel de patients": 25512826,
         "Taux de Patients Max": 217.3,
         "Taux de Patients Min": 65.47,
         "Taux de Patients moyen": 188.73615384615385,
         "Taux de Patients médian": 190.64
        },
        {
         "Année": 2017,
         "Nombre total annuel de patients": 25308661,
         "Taux de Patients Max": 215.92,
         "Taux de Patients Min": 62.82,
         "Taux de Patients moyen": 187.16201923076915,
         "Taux de Patients médian": 189.885
        }
       ],
       "schema": {
        "fields": [
         {
          "name": "Année",
          "type": "integer"
         },
         {
          "name": "Taux de Patients Min",
          "type": "number"
         },
         {
          "name": "Taux de Patients moyen",
          "type": "number"
         },
         {
          "name": "Taux de Patients médian",
          "type": "number"
         },
         {
          "name": "Taux de Patients Max",
          "type": "number"
         },
         {
          "name": "Nombre total annuel de patients",
          "type": "integer"
         }
        ]
       }
      },
      "text/html": [
       "<table><thead><tr><th>Année</th><th>Taux de Patients Min</th><th>Taux de Patients moyen</th><th>Taux de Patients médian</th><th>Taux de Patients Max</th><th>Nombre total annuel de patients</th></tr></thead><tbody><tr><td>2021</td><td>69.41</td><td>185.6853846153846</td><td>187</td><td>220.01</td><td>25267786</td></tr><tr><td>2020</td><td>66.67</td><td>170.46192307692297</td><td>171.97</td><td>199.41</td><td>23162660</td></tr><tr><td>2019</td><td>67.76</td><td>189.91528846153844</td><td>191.72</td><td>219.93</td><td>25698108</td></tr><tr><td>2018</td><td>65.47</td><td>188.73615384615385</td><td>190.64</td><td>217.3</td><td>25512826</td></tr><tr><td>2017</td><td>62.82</td><td>187.16201923076915</td><td>189.885</td><td>215.92</td><td>25308661</td></tr></tbody></table>"
      ]
     },
     "execution_count": 50,
     "metadata": {},
     "output_type": "execute_result"
    }
   ],
   "source": [
    "const basic_stats_per_year_df = df_atih.groupBy(\"annee\").agg(\n",
    "    pl.col(\"tauxPatients\").min().alias(\"Taux de Patients Min\"), \n",
    "    pl.col(\"tauxPatients\").mean().alias(\"Taux de Patients moyen\"),\n",
    "    pl.col(\"tauxPatients\").median().alias(\"Taux de Patients médian\"),\n",
    "    pl.col(\"tauxPatients\").max().alias(\"Taux de Patients Max\"),\n",
    "    pl.col(\"nombre_patients\").sum().alias(\"Nombre total annuel de patients\")\n",
    ").sort( {\n",
    "    by: \"annee\",\n",
    "    descending: true\n",
    "}).select(\n",
    "    pl.col(\"annee\").alias(\"Année\"), \n",
    "    pl.col(\"Taux de Patients Min\"), \n",
    "    pl.col(\"Taux de Patients moyen\"), \n",
    "    pl.col(\"Taux de Patients médian\"), \n",
    "    pl.col(\"Taux de Patients Max\"), \n",
    "    pl.col(\"Nombre total annuel de patients\")\n",
    ")\n",
    "basic_stats_per_year_df"
   ]
  },
  {
   "cell_type": "code",
   "execution_count": 63,
   "id": "89678ebf-6c0e-4bce-903a-f50591b2d145",
   "metadata": {},
   "outputs": [
    {
     "data": {
      "text/html": [
       "<figure style=\"max-width:initial\" class=\"plot-d6a7b5-figure\"><h2>Atih / Taux de Patients moyen par année</h2><svg viewBox=\"0 0 630 330\" height=\"330\" width=\"630\" text-anchor=\"middle\" font-size=\"10\" font-family=\"system-ui, sans-serif\" fill=\"currentColor\" class=\"plot-d6a7b5\"><style>:where(.plot-d6a7b5) {\n",
       "  --plot-background: white;\n",
       "  display: block;\n",
       "  height: auto;\n",
       "  height: intrinsic;\n",
       "  max-width: 100%;\n",
       "}\n",
       ":where(.plot-d6a7b5 text),\n",
       ":where(.plot-d6a7b5 tspan) {\n",
       "  white-space: pre;\n",
       "}</style><g stroke=\"currentColor\" fill=\"none\" aria-label=\"y-axis tick\"><path d=\"M0,0L-6,0\" transform=\"translate(40,280)\" /><path d=\"M0,0L-6,0\" transform=\"translate(40,252.61937128851477)\" /><path d=\"M0,0L-6,0\" transform=\"translate(40,225.23874257702954)\" /><path d=\"M0,0L-6,0\" transform=\"translate(40,197.85811386554428)\" /><path d=\"M0,0L-6,0\" transform=\"translate(40,170.47748515405908)\" /><path d=\"M0,0L-6,0\" transform=\"translate(40,143.0968564425738)\" /><path d=\"M0,0L-6,0\" transform=\"translate(40,115.71622773108858)\" /><path d=\"M0,0L-6,0\" transform=\"translate(40,88.33559901960336)\" /><path d=\"M0,0L-6,0\" transform=\"translate(40,60.95497030811813)\" /><path d=\"M0,0L-6,0\" transform=\"translate(40,33.57434159663289)\" /></g><g transform=\"translate(-9,0)\" font-variant=\"tabular-nums\" text-anchor=\"end\" aria-label=\"y-axis tick label\"><text transform=\"translate(40,280)\" y=\"0.32em\">0</text><text transform=\"translate(40,252.61937128851477)\" y=\"0.32em\">20</text><text transform=\"translate(40,225.23874257702954)\" y=\"0.32em\">40</text><text transform=\"translate(40,197.85811386554428)\" y=\"0.32em\">60</text><text transform=\"translate(40,170.47748515405908)\" y=\"0.32em\">80</text><text transform=\"translate(40,143.0968564425738)\" y=\"0.32em\">100</text><text transform=\"translate(40,115.71622773108858)\" y=\"0.32em\">120</text><text transform=\"translate(40,88.33559901960336)\" y=\"0.32em\">140</text><text transform=\"translate(40,60.95497030811813)\" y=\"0.32em\">160</text><text transform=\"translate(40,33.57434159663289)\" y=\"0.32em\">180</text></g><g transform=\"translate(-37,-17)\" text-anchor=\"start\" aria-label=\"y-axis label\"><text transform=\"translate(40,20)\" y=\"0.71em\">↑ Taux de Patients moyen</text></g><g transform=\"translate(50,0)\" stroke=\"currentColor\" fill=\"none\" aria-label=\"x-axis tick\"><path d=\"M0,0L0,6\" transform=\"translate(53,280)\" /><path d=\"M0,0L0,6\" transform=\"translate(164,280)\" /><path d=\"M0,0L0,6\" transform=\"translate(275,280)\" /><path d=\"M0,0L0,6\" transform=\"translate(386,280)\" /><path d=\"M0,0L0,6\" transform=\"translate(497,280)\" /></g><g transform=\"translate(50,9)\" text-anchor=\"end\" aria-label=\"x-axis tick label\"><text transform=\"translate(53,280) rotate(-90)\" y=\"0.32em\">2,017</text><text transform=\"translate(164,280) rotate(-90)\" y=\"0.32em\">2,018</text><text transform=\"translate(275,280) rotate(-90)\" y=\"0.32em\">2,019</text><text transform=\"translate(386,280) rotate(-90)\" y=\"0.32em\">2,020</text><text transform=\"translate(497,280) rotate(-90)\" y=\"0.32em\">2,021</text></g><g transform=\"translate(0,47)\" aria-label=\"x-axis label\"><text transform=\"translate(325,280)\">Année</text></g><g fill=\"lightblue\" aria-label=\"bar\"><rect height=\"254.20912866515891\" y=\"25.79087133484107\" width=\"100\" x=\"497\" /><rect height=\"233.36773126074925\" y=\"46.632268739250755\" width=\"100\" x=\"386\" /><rect height=\"260\" y=\"20\" width=\"100\" x=\"275\" /><rect height=\"258.38572764476476\" y=\"21.614272355235247\" width=\"100\" x=\"164\" /><rect height=\"256.23068787247746\" y=\"23.769312127522532\" width=\"100\" x=\"53\" /></g></svg></figure>"
      ]
     },
     "execution_count": 63,
     "metadata": {},
     "output_type": "execute_result"
    }
   ],
   "source": [
    "import * as Plot from \"npm:@observablehq/plot\";\n",
    "import { DOMParser, SVGElement } from \"npm:linkedom\";\n",
    "const document = new DOMParser().parseFromString(\n",
    "  `<!DOCTYPE html><html lang=\"en\"></html>`,\n",
    "  \"text/html\",\n",
    ");\n",
    "\n",
    "function randomColor() {\n",
    "    const R = Math.floor(Math.random()*99)\n",
    "    const G = Math.floor(Math.random()*99)\n",
    "    const B = Math.floor(Math.random()*99)\n",
    "    let color = \"#\"+R+\"\"+G+\"\"+B\n",
    "    while (color.length < 7) color += \"F\"\n",
    "    return color\n",
    "}\n",
    "\n",
    "const records = basic_stats_per_year_df.toRecords()\n",
    "// console.log(records)\n",
    "await display(\n",
    "  Plot.plot({\n",
    "    color: {legend: true},\n",
    "    title: \"Atih / Taux de Patients moyen par année\",\n",
    "    width: 630,\n",
    "    height: 330,\n",
    "    marginBottom: 50,\n",
    "    x: { domain: records[\"Année\"], tickRotate: -90 },\n",
    "    y: { domain: records[\"Taux de Patients moyen\"] },\n",
    "    marks: [\n",
    "            Plot.barY(records, {x: \"Année\", y: \"Taux de Patients moyen\", fill: \"lightblue\"})\n",
    "    ],\n",
    "    document,\n",
    "  })\n",
    ");"
   ]
  },
  {
   "cell_type": "code",
   "execution_count": null,
   "id": "d64748b6-280a-4580-9703-08dcceaa2814",
   "metadata": {},
   "outputs": [],
   "source": []
  }
 ],
 "metadata": {
  "kernelspec": {
   "display_name": "Deno",
   "language": "typescript",
   "name": "deno"
  },
  "language_info": {
   "file_extension": ".ts",
   "mimetype": "text/x.typescript",
   "name": "typescript",
   "nb_converter": "script",
   "pygments_lexer": "typescript",
   "version": "5.3.3"
  }
 },
 "nbformat": 4,
 "nbformat_minor": 5
}
